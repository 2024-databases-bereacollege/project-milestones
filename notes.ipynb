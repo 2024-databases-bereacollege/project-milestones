{
 "cells": [
  {
   "cell_type": "code",
   "execution_count": null,
   "metadata": {},
   "outputs": [],
   "source": []
  },
  {
   "cell_type": "markdown",
   "metadata": {},
   "source": [
    "# NOTES for current database creation"
   ]
  },
  {
   "cell_type": "markdown",
   "metadata": {},
   "source": [
    "currently we have separate files for each function inside of service providers, we will probably consolidate them\n",
    "\n",
    "For extending the base templates to our page templates, we use something like the following in html \n",
    "Example service_providers/list.html:"
   ]
  },
  {
   "cell_type": "code",
   "execution_count": null,
   "metadata": {},
   "outputs": [],
   "source": [
    "{% extends \"base.html\" %}\n",
    "\n",
    "{% block title %}List of Service Providers{% endblock %}\n",
    "\n",
    "{% block content %}\n",
    "    <h1>Service Providers</h1>\n",
    "    <ul>\n",
    "        {% for provider in service_providers %}\n",
    "        <li>{{ provider.Organization }}</li>\n",
    "        {% endfor %}\n",
    "    </ul>\n",
    "{% endblock %}\n"
   ]
  }
 ],
 "metadata": {
  "language_info": {
   "name": "python"
  }
 },
 "nbformat": 4,
 "nbformat_minor": 2
}
