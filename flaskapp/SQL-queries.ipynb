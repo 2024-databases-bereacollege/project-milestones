{
 "cells": [
  {
   "cell_type": "markdown",
   "metadata": {},
   "source": [
    "## Setup\n",
    "\n",
    "*This is already done for you.* First, we install the python requirements from **requirements.txt**. There's lot of libraries, but most importantly, this installs the  **ipython-sql** library that enables SQL execution in Jupyter Notebooks and an older version of SQLAlchemy (1.4.46) that works with Codespaces.\n",
    "\n",
    "❗ The command ```**%load_ext sql**``` is used to activate sql in Jupyter.\n",
    "\n",
    "❗ The command ```**%sql sqlite:///<database_name>.db**``` is used to select the working database. (Note 3 slashes!)\n",
    "\n"
   ]
  },
  {
   "cell_type": "code",
   "execution_count": 3,
   "metadata": {},
   "outputs": [
    {
     "ename": "ModuleNotFoundError",
     "evalue": "No module named 'sql'",
     "output_type": "error",
     "traceback": [
      "\u001b[0;31m---------------------------------------------------------------------------\u001b[0m",
      "\u001b[0;31mModuleNotFoundError\u001b[0m                       Traceback (most recent call last)",
      "Cell \u001b[0;32mIn[3], line 2\u001b[0m\n\u001b[1;32m      1\u001b[0m \u001b[38;5;66;03m# Start the Jupyter SQL engine, connecting to a SQLite database \u001b[39;00m\n\u001b[0;32m----> 2\u001b[0m \u001b[43mget_ipython\u001b[49m\u001b[43m(\u001b[49m\u001b[43m)\u001b[49m\u001b[38;5;241;43m.\u001b[39;49m\u001b[43mrun_line_magic\u001b[49m\u001b[43m(\u001b[49m\u001b[38;5;124;43m'\u001b[39;49m\u001b[38;5;124;43mreload_ext\u001b[39;49m\u001b[38;5;124;43m'\u001b[39;49m\u001b[43m,\u001b[49m\u001b[43m \u001b[49m\u001b[38;5;124;43m'\u001b[39;49m\u001b[38;5;124;43msql\u001b[39;49m\u001b[38;5;124;43m'\u001b[39;49m\u001b[43m)\u001b[49m\n\u001b[1;32m      3\u001b[0m get_ipython()\u001b[38;5;241m.\u001b[39mrun_line_magic(\u001b[38;5;124m'\u001b[39m\u001b[38;5;124msql\u001b[39m\u001b[38;5;124m'\u001b[39m, \u001b[38;5;124m'\u001b[39m\u001b[38;5;124mpostgresql://postgres:postgres@db/postgres\u001b[39m\u001b[38;5;124m'\u001b[39m)\n",
      "File \u001b[0;32m~/.local/lib/python3.10/site-packages/IPython/core/interactiveshell.py:2480\u001b[0m, in \u001b[0;36mInteractiveShell.run_line_magic\u001b[0;34m(self, magic_name, line, _stack_depth)\u001b[0m\n\u001b[1;32m   2478\u001b[0m     kwargs[\u001b[38;5;124m'\u001b[39m\u001b[38;5;124mlocal_ns\u001b[39m\u001b[38;5;124m'\u001b[39m] \u001b[38;5;241m=\u001b[39m \u001b[38;5;28mself\u001b[39m\u001b[38;5;241m.\u001b[39mget_local_scope(stack_depth)\n\u001b[1;32m   2479\u001b[0m \u001b[38;5;28;01mwith\u001b[39;00m \u001b[38;5;28mself\u001b[39m\u001b[38;5;241m.\u001b[39mbuiltin_trap:\n\u001b[0;32m-> 2480\u001b[0m     result \u001b[38;5;241m=\u001b[39m \u001b[43mfn\u001b[49m\u001b[43m(\u001b[49m\u001b[38;5;241;43m*\u001b[39;49m\u001b[43margs\u001b[49m\u001b[43m,\u001b[49m\u001b[43m \u001b[49m\u001b[38;5;241;43m*\u001b[39;49m\u001b[38;5;241;43m*\u001b[39;49m\u001b[43mkwargs\u001b[49m\u001b[43m)\u001b[49m\n\u001b[1;32m   2482\u001b[0m \u001b[38;5;66;03m# The code below prevents the output from being displayed\u001b[39;00m\n\u001b[1;32m   2483\u001b[0m \u001b[38;5;66;03m# when using magics with decorator @output_can_be_silenced\u001b[39;00m\n\u001b[1;32m   2484\u001b[0m \u001b[38;5;66;03m# when the last Python token in the expression is a ';'.\u001b[39;00m\n\u001b[1;32m   2485\u001b[0m \u001b[38;5;28;01mif\u001b[39;00m \u001b[38;5;28mgetattr\u001b[39m(fn, magic\u001b[38;5;241m.\u001b[39mMAGIC_OUTPUT_CAN_BE_SILENCED, \u001b[38;5;28;01mFalse\u001b[39;00m):\n",
      "File \u001b[0;32m~/.local/lib/python3.10/site-packages/IPython/core/magics/extension.py:63\u001b[0m, in \u001b[0;36mExtensionMagics.reload_ext\u001b[0;34m(self, module_str)\u001b[0m\n\u001b[1;32m     61\u001b[0m \u001b[38;5;28;01mif\u001b[39;00m \u001b[38;5;129;01mnot\u001b[39;00m module_str:\n\u001b[1;32m     62\u001b[0m     \u001b[38;5;28;01mraise\u001b[39;00m UsageError(\u001b[38;5;124m'\u001b[39m\u001b[38;5;124mMissing module name.\u001b[39m\u001b[38;5;124m'\u001b[39m)\n\u001b[0;32m---> 63\u001b[0m \u001b[38;5;28;43mself\u001b[39;49m\u001b[38;5;241;43m.\u001b[39;49m\u001b[43mshell\u001b[49m\u001b[38;5;241;43m.\u001b[39;49m\u001b[43mextension_manager\u001b[49m\u001b[38;5;241;43m.\u001b[39;49m\u001b[43mreload_extension\u001b[49m\u001b[43m(\u001b[49m\u001b[43mmodule_str\u001b[49m\u001b[43m)\u001b[49m\n",
      "File \u001b[0;32m~/.local/lib/python3.10/site-packages/IPython/core/extensions.py:125\u001b[0m, in \u001b[0;36mExtensionManager.reload_extension\u001b[0;34m(self, module_str)\u001b[0m\n\u001b[1;32m    123\u001b[0m         \u001b[38;5;28mself\u001b[39m\u001b[38;5;241m.\u001b[39mloaded\u001b[38;5;241m.\u001b[39madd(module_str)\n\u001b[1;32m    124\u001b[0m \u001b[38;5;28;01melse\u001b[39;00m:\n\u001b[0;32m--> 125\u001b[0m     \u001b[38;5;28;43mself\u001b[39;49m\u001b[38;5;241;43m.\u001b[39;49m\u001b[43mload_extension\u001b[49m\u001b[43m(\u001b[49m\u001b[43mmodule_str\u001b[49m\u001b[43m)\u001b[49m\n",
      "File \u001b[0;32m~/.local/lib/python3.10/site-packages/IPython/core/extensions.py:62\u001b[0m, in \u001b[0;36mExtensionManager.load_extension\u001b[0;34m(self, module_str)\u001b[0m\n\u001b[1;32m     55\u001b[0m \u001b[38;5;250m\u001b[39m\u001b[38;5;124;03m\"\"\"Load an IPython extension by its module name.\u001b[39;00m\n\u001b[1;32m     56\u001b[0m \n\u001b[1;32m     57\u001b[0m \u001b[38;5;124;03mReturns the string \"already loaded\" if the extension is already loaded,\u001b[39;00m\n\u001b[1;32m     58\u001b[0m \u001b[38;5;124;03m\"no load function\" if the module doesn't have a load_ipython_extension\u001b[39;00m\n\u001b[1;32m     59\u001b[0m \u001b[38;5;124;03mfunction, or None if it succeeded.\u001b[39;00m\n\u001b[1;32m     60\u001b[0m \u001b[38;5;124;03m\"\"\"\u001b[39;00m\n\u001b[1;32m     61\u001b[0m \u001b[38;5;28;01mtry\u001b[39;00m:\n\u001b[0;32m---> 62\u001b[0m     \u001b[38;5;28;01mreturn\u001b[39;00m \u001b[38;5;28;43mself\u001b[39;49m\u001b[38;5;241;43m.\u001b[39;49m\u001b[43m_load_extension\u001b[49m\u001b[43m(\u001b[49m\u001b[43mmodule_str\u001b[49m\u001b[43m)\u001b[49m\n\u001b[1;32m     63\u001b[0m \u001b[38;5;28;01mexcept\u001b[39;00m \u001b[38;5;167;01mModuleNotFoundError\u001b[39;00m:\n\u001b[1;32m     64\u001b[0m     \u001b[38;5;28;01mif\u001b[39;00m module_str \u001b[38;5;129;01min\u001b[39;00m BUILTINS_EXTS:\n",
      "File \u001b[0;32m~/.local/lib/python3.10/site-packages/IPython/core/extensions.py:77\u001b[0m, in \u001b[0;36mExtensionManager._load_extension\u001b[0;34m(self, module_str)\u001b[0m\n\u001b[1;32m     75\u001b[0m \u001b[38;5;28;01mwith\u001b[39;00m \u001b[38;5;28mself\u001b[39m\u001b[38;5;241m.\u001b[39mshell\u001b[38;5;241m.\u001b[39mbuiltin_trap:\n\u001b[1;32m     76\u001b[0m     \u001b[38;5;28;01mif\u001b[39;00m module_str \u001b[38;5;129;01mnot\u001b[39;00m \u001b[38;5;129;01min\u001b[39;00m sys\u001b[38;5;241m.\u001b[39mmodules:\n\u001b[0;32m---> 77\u001b[0m         mod \u001b[38;5;241m=\u001b[39m \u001b[43mimport_module\u001b[49m\u001b[43m(\u001b[49m\u001b[43mmodule_str\u001b[49m\u001b[43m)\u001b[49m\n\u001b[1;32m     78\u001b[0m     mod \u001b[38;5;241m=\u001b[39m sys\u001b[38;5;241m.\u001b[39mmodules[module_str]\n\u001b[1;32m     79\u001b[0m     \u001b[38;5;28;01mif\u001b[39;00m \u001b[38;5;28mself\u001b[39m\u001b[38;5;241m.\u001b[39m_call_load_ipython_extension(mod):\n",
      "File \u001b[0;32m~/.python/current/lib/python3.10/importlib/__init__.py:126\u001b[0m, in \u001b[0;36mimport_module\u001b[0;34m(name, package)\u001b[0m\n\u001b[1;32m    124\u001b[0m             \u001b[38;5;28;01mbreak\u001b[39;00m\n\u001b[1;32m    125\u001b[0m         level \u001b[38;5;241m+\u001b[39m\u001b[38;5;241m=\u001b[39m \u001b[38;5;241m1\u001b[39m\n\u001b[0;32m--> 126\u001b[0m \u001b[38;5;28;01mreturn\u001b[39;00m \u001b[43m_bootstrap\u001b[49m\u001b[38;5;241;43m.\u001b[39;49m\u001b[43m_gcd_import\u001b[49m\u001b[43m(\u001b[49m\u001b[43mname\u001b[49m\u001b[43m[\u001b[49m\u001b[43mlevel\u001b[49m\u001b[43m:\u001b[49m\u001b[43m]\u001b[49m\u001b[43m,\u001b[49m\u001b[43m \u001b[49m\u001b[43mpackage\u001b[49m\u001b[43m,\u001b[49m\u001b[43m \u001b[49m\u001b[43mlevel\u001b[49m\u001b[43m)\u001b[49m\n",
      "File \u001b[0;32m<frozen importlib._bootstrap>:1050\u001b[0m, in \u001b[0;36m_gcd_import\u001b[0;34m(name, package, level)\u001b[0m\n",
      "File \u001b[0;32m<frozen importlib._bootstrap>:1027\u001b[0m, in \u001b[0;36m_find_and_load\u001b[0;34m(name, import_)\u001b[0m\n",
      "File \u001b[0;32m<frozen importlib._bootstrap>:1004\u001b[0m, in \u001b[0;36m_find_and_load_unlocked\u001b[0;34m(name, import_)\u001b[0m\n",
      "\u001b[0;31mModuleNotFoundError\u001b[0m: No module named 'sql'"
     ]
    }
   ],
   "source": [
    "# Start the Jupyter SQL engine, connecting to a SQLite database \n",
    "%reload_ext sql \n",
    "%sql postgresql://postgres:postgres@db/postgres"
   ]
  },
  {
   "cell_type": "markdown",
   "metadata": {},
   "source": [
    "## Queries\n",
    "\n",
    "The command **%%SQL** is referenced before writing an SQL query\n",
    "\n",
    "Comments must be written in SQL syntax using double dash lines: **--** "
   ]
  },
  {
   "cell_type": "markdown",
   "metadata": {},
   "source": [
    "#### Query. 1\n",
    "Write a query that returns everything from the member table"
   ]
  },
  {
   "cell_type": "code",
   "execution_count": null,
   "metadata": {},
   "outputs": [
    {
     "name": "stdout",
     "output_type": "stream",
     "text": [
      " * postgresql://postgres:***@db/postgres\n",
      "6 rows affected.\n"
     ]
    },
    {
     "data": {
      "text/html": [
       "<table>\n",
       "    <thead>\n",
       "        <tr>\n",
       "            <th>memberid</th>\n",
       "            <th>firstname</th>\n",
       "            <th>middlename</th>\n",
       "            <th>lastname</th>\n",
       "            <th>phonenumber</th>\n",
       "            <th>score</th>\n",
       "            <th>memberaddress</th>\n",
       "            <th>numberofeventsattended</th>\n",
       "            <th>status</th>\n",
       "        </tr>\n",
       "    </thead>\n",
       "    <tbody>\n",
       "        <tr>\n",
       "            <td>1</td>\n",
       "            <td>Betty</td>\n",
       "            <td>M</td>\n",
       "            <td>Hibler</td>\n",
       "            <td>1234567890</td>\n",
       "            <td>987</td>\n",
       "            <td>314 Prospect St, Berea, KY, 40403</td>\n",
       "            <td>5</td>\n",
       "            <td>active</td>\n",
       "        </tr>\n",
       "        <tr>\n",
       "            <td>4</td>\n",
       "            <td>Rachel</td>\n",
       "            <td></td>\n",
       "            <td>White</td>\n",
       "            <td>4567890123</td>\n",
       "            <td>432</td>\n",
       "            <td>1101 Elm St, Danville, KY, 40422</td>\n",
       "            <td>7</td>\n",
       "            <td>active</td>\n",
       "        </tr>\n",
       "        <tr>\n",
       "            <td>2</td>\n",
       "            <td>Mostaphe </td>\n",
       "            <td></td>\n",
       "            <td>Lewis</td>\n",
       "            <td>2345678901</td>\n",
       "            <td>654</td>\n",
       "            <td>619 Chestnut St, Berea, KY, 40403</td>\n",
       "            <td>3</td>\n",
       "            <td>active</td>\n",
       "        </tr>\n",
       "        <tr>\n",
       "            <td>3</td>\n",
       "            <td>Bishal</td>\n",
       "            <td></td>\n",
       "            <td>Bolinger</td>\n",
       "            <td>3456789012</td>\n",
       "            <td>321</td>\n",
       "            <td>314 University Dr Apt A, Richmond, KY, 2841</td>\n",
       "            <td>2</td>\n",
       "            <td>active</td>\n",
       "        </tr>\n",
       "        <tr>\n",
       "            <td>5</td>\n",
       "            <td>Ben </td>\n",
       "            <td></td>\n",
       "            <td>Lukins</td>\n",
       "            <td>5678901234</td>\n",
       "            <td>876</td>\n",
       "            <td>503 Ohara Dr, Daville, KY, 40422</td>\n",
       "            <td>4</td>\n",
       "            <td>active</td>\n",
       "        </tr>\n",
       "        <tr>\n",
       "            <td>19</td>\n",
       "            <td>Mohammad Ali</td>\n",
       "            <td></td>\n",
       "            <td>Ramazani</td>\n",
       "            <td>8599796449</td>\n",
       "            <td>99</td>\n",
       "            <td>101 Chestnut St. Berea, College, CPO 1384</td>\n",
       "            <td>99</td>\n",
       "            <td>Inactive</td>\n",
       "        </tr>\n",
       "    </tbody>\n",
       "</table>"
      ],
      "text/plain": [
       "[(1, 'Betty', 'M', 'Hibler', '1234567890', 987, '314 Prospect St, Berea, KY, 40403', 5, 'active'),\n",
       " (4, 'Rachel', '', 'White', '4567890123', 432, '1101 Elm St, Danville, KY, 40422', 7, 'active'),\n",
       " (2, 'Mostaphe ', '', 'Lewis', '2345678901', 654, '619 Chestnut St, Berea, KY, 40403', 3, 'active'),\n",
       " (3, 'Bishal', '', 'Bolinger', '3456789012', 321, '314 University Dr Apt A, Richmond, KY, 2841', 2, 'active'),\n",
       " (5, 'Ben ', '', 'Lukins', '5678901234', 876, '503 Ohara Dr, Daville, KY, 40422', 4, 'active'),\n",
       " (19, 'Mohammad Ali', '', 'Ramazani', '8599796449', 99, '101 Chestnut St. Berea, College, CPO 1384', 99, 'Inactive')]"
      ]
     },
     "execution_count": 14,
     "metadata": {},
     "output_type": "execute_result"
    }
   ],
   "source": [
    "%%sql\n",
    "-- This is a command that queries everything from the 'member' table\n",
    "\n",
    "SELECT * FROM member"
   ]
  },
  {
   "cell_type": "markdown",
   "metadata": {},
   "source": [
    "#### Query 2 \n",
    "Write a query that returns everything from the chapter table"
   ]
  },
  {
   "cell_type": "code",
   "execution_count": null,
   "metadata": {},
   "outputs": [
    {
     "name": "stdout",
     "output_type": "stream",
     "text": [
      " * postgresql://postgres:***@db/postgres\n",
      "2 rows affected.\n"
     ]
    },
    {
     "data": {
      "text/html": [
       "<table>\n",
       "    <thead>\n",
       "        <tr>\n",
       "            <th>chaptername</th>\n",
       "            <th>numberofmembers</th>\n",
       "            <th>chapterlead</th>\n",
       "            <th>chapteremail</th>\n",
       "        </tr>\n",
       "    </thead>\n",
       "    <tbody>\n",
       "        <tr>\n",
       "            <td>Madison County</td>\n",
       "            <td>50</td>\n",
       "            <td>Landra Lewis</td>\n",
       "            <td>alex@example.com</td>\n",
       "        </tr>\n",
       "        <tr>\n",
       "            <td>Wilderness Trace</td>\n",
       "            <td>30</td>\n",
       "            <td>Emily Brown</td>\n",
       "            <td>emily@example.com</td>\n",
       "        </tr>\n",
       "    </tbody>\n",
       "</table>"
      ],
      "text/plain": [
       "[('Madison County', 50, 'Landra Lewis', 'alex@example.com'),\n",
       " ('Wilderness Trace', 30, 'Emily Brown', 'emily@example.com')]"
      ]
     },
     "execution_count": 15,
     "metadata": {},
     "output_type": "execute_result"
    }
   ],
   "source": [
    "%%sql\n",
    "\n",
    "SELECT * FROM chapter "
   ]
  },
  {
   "cell_type": "code",
   "execution_count": null,
   "metadata": {},
   "outputs": [
    {
     "name": "stdout",
     "output_type": "stream",
     "text": [
      " * postgresql://postgres:***@db/postgres\n",
      "6 rows affected.\n"
     ]
    },
    {
     "data": {
      "text/html": [
       "<table>\n",
       "    <thead>\n",
       "        <tr>\n",
       "            <th>eventname</th>\n",
       "            <th>venue</th>\n",
       "            <th>theme</th>\n",
       "            <th>eventdate</th>\n",
       "            <th>numberofmembersattended</th>\n",
       "        </tr>\n",
       "    </thead>\n",
       "    <tbody>\n",
       "        <tr>\n",
       "            <td>Community Building</td>\n",
       "            <td>Convention Center</td>\n",
       "            <td>Environmental Preservation</td>\n",
       "            <td>2024-04-01</td>\n",
       "            <td>200</td>\n",
       "        </tr>\n",
       "        <tr>\n",
       "            <td>Workshop</td>\n",
       "            <td>Community Center</td>\n",
       "            <td>Environmental Preservation</td>\n",
       "            <td>2024-04-15</td>\n",
       "            <td>80</td>\n",
       "        </tr>\n",
       "        <tr>\n",
       "            <td>Hackathon</td>\n",
       "            <td>Convention Center</td>\n",
       "            <td>Environmental Preservation</td>\n",
       "            <td>2024-04-01</td>\n",
       "            <td>200</td>\n",
       "        </tr>\n",
       "        <tr>\n",
       "            <td>Seedy Workshop</td>\n",
       "            <td>Community Center</td>\n",
       "            <td>Environmental Preservation</td>\n",
       "            <td>2024-04-15</td>\n",
       "            <td>80</td>\n",
       "        </tr>\n",
       "        <tr>\n",
       "            <td>How to sleep in class</td>\n",
       "            <td>Community Center</td>\n",
       "            <td>Sleep</td>\n",
       "            <td>2024-04-15</td>\n",
       "            <td>80</td>\n",
       "        </tr>\n",
       "        <tr>\n",
       "            <td>How to Work While Sleeping</td>\n",
       "            <td>101 Chestnut Street</td>\n",
       "            <td>Productivity </td>\n",
       "            <td>2024-04-22</td>\n",
       "            <td>350</td>\n",
       "        </tr>\n",
       "    </tbody>\n",
       "</table>"
      ],
      "text/plain": [
       "[('Community Building', 'Convention Center', 'Environmental Preservation', datetime.date(2024, 4, 1), 200),\n",
       " ('Workshop', 'Community Center', 'Environmental Preservation', datetime.date(2024, 4, 15), 80),\n",
       " ('Hackathon', 'Convention Center', 'Environmental Preservation', datetime.date(2024, 4, 1), 200),\n",
       " ('Seedy Workshop', 'Community Center', 'Environmental Preservation', datetime.date(2024, 4, 15), 80),\n",
       " ('How to sleep in class', 'Community Center', 'Sleep', datetime.date(2024, 4, 15), 80),\n",
       " ('How to Work While Sleeping', '101 Chestnut Street', 'Productivity ', datetime.date(2024, 4, 22), 350)]"
      ]
     },
     "execution_count": 16,
     "metadata": {},
     "output_type": "execute_result"
    }
   ],
   "source": [
    "%%sql\n",
    "\n",
    "SELECT * FROM event"
   ]
  },
  {
   "cell_type": "code",
   "execution_count": null,
   "metadata": {},
   "outputs": [
    {
     "name": "stdout",
     "output_type": "stream",
     "text": [
      " * postgresql://postgres:***@db/postgres\n",
      "5 rows affected.\n"
     ]
    },
    {
     "data": {
      "text/html": [
       "<table>\n",
       "    <thead>\n",
       "        <tr>\n",
       "            <th>donationId</th>\n",
       "            <th>donor_id</th>\n",
       "            <th>item</th>\n",
       "            <th>monetaryWorth</th>\n",
       "        </tr>\n",
       "    </thead>\n",
       "    <tbody>\n",
       "        <tr>\n",
       "            <td>1</td>\n",
       "            <td>1</td>\n",
       "            <td>Laptop</td>\n",
       "            <td>800</td>\n",
       "        </tr>\n",
       "        <tr>\n",
       "            <td>2</td>\n",
       "            <td>2</td>\n",
       "            <td>Books</td>\n",
       "            <td>100</td>\n",
       "        </tr>\n",
       "        <tr>\n",
       "            <td>3</td>\n",
       "            <td>3</td>\n",
       "            <td>Laptop</td>\n",
       "            <td>800</td>\n",
       "        </tr>\n",
       "        <tr>\n",
       "            <td>4</td>\n",
       "            <td>2</td>\n",
       "            <td>Books</td>\n",
       "            <td>100</td>\n",
       "        </tr>\n",
       "        <tr>\n",
       "            <td>5</td>\n",
       "            <td>1</td>\n",
       "            <td>Laptop</td>\n",
       "            <td>800</td>\n",
       "        </tr>\n",
       "    </tbody>\n",
       "</table>"
      ],
      "text/plain": [
       "[(1, 1, 'Laptop', 800),\n",
       " (2, 2, 'Books', 100),\n",
       " (3, 3, 'Laptop', 800),\n",
       " (4, 2, 'Books', 100),\n",
       " (5, 1, 'Laptop', 800)]"
      ]
     },
     "execution_count": 17,
     "metadata": {},
     "output_type": "execute_result"
    }
   ],
   "source": [
    "%%sql\n",
    "\n",
    "SELECT * FROM donation"
   ]
  },
  {
   "cell_type": "code",
   "execution_count": null,
   "metadata": {},
   "outputs": [
    {
     "name": "stdout",
     "output_type": "stream",
     "text": [
      " * postgresql://postgres:***@db/postgres\n",
      "(psycopg2.errors.UndefinedColumn) column d.donorid does not exist\n",
      "LINE 3: JOIN donation d ON m.memberId = d.donorId;\n",
      "                                        ^\n",
      "HINT:  Perhaps you meant to reference the column \"d.donor_id\".\n",
      "\n",
      "[SQL: SELECT m.firstName, m.lastName, m.memberId, d.item\n",
      "FROM member m\n",
      "JOIN donation d ON m.memberId = d.donorId;]\n",
      "(Background on this error at: https://sqlalche.me/e/20/f405)\n"
     ]
    }
   ],
   "source": [
    "%%sql\n",
    "\n",
    "SELECT m.firstName, m.lastName, m.memberId, d.item\n",
    "FROM member m\n",
    "JOIN donation d ON m.memberId = d.donorId;\n"
   ]
  }
 ],
 "metadata": {
  "kernelspec": {
   "display_name": "Python 3",
   "language": "python",
   "name": "python3"
  },
  "language_info": {
   "codemirror_mode": {
    "name": "ipython",
    "version": 3
   },
   "file_extension": ".py",
   "mimetype": "text/x-python",
   "name": "python",
   "nbconvert_exporter": "python",
   "pygments_lexer": "ipython3",
   "version": "3.10.13"
  }
 },
 "nbformat": 4,
 "nbformat_minor": 2
}
