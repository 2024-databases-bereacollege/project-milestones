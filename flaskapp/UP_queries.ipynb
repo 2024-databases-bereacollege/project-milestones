{
 "cells": [
  {
   "cell_type": "code",
   "execution_count": null,
   "metadata": {},
   "outputs": [],
   "source": []
  },
  {
   "cell_type": "markdown",
   "metadata": {},
   "source": [
    "Query for gathering a month long record for every record relating around a neighbor"
   ]
  },
  {
   "cell_type": "markdown",
   "metadata": {},
   "source": [
    "Main page query - add it on a button on Home- Add visit"
   ]
  },
  {
   "cell_type": "markdown",
   "metadata": {},
   "source": [
    "Volunteer First name, Volunteer Last name,\n",
    "Neighbor First Name, Last name, Date of birth, Phone, Location, Email, Has state ID y/n, Has pet y/n\n",
    "Service Type\n",
    "From Service providers, Organization name, contact person\n"
   ]
  }
 ],
 "metadata": {
  "language_info": {
   "name": "python"
  }
 },
 "nbformat": 4,
 "nbformat_minor": 2
}
